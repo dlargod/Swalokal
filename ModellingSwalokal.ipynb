{
  "nbformat": 4,
  "nbformat_minor": 0,
  "metadata": {
    "colab": {
      "provenance": [],
      "authorship_tag": "ABX9TyMxPDXIwZpIhV41hLTpWaNy",
      "include_colab_link": true
    },
    "kernelspec": {
      "name": "python3",
      "display_name": "Python 3"
    },
    "language_info": {
      "name": "python"
    }
  },
  "cells": [
    {
      "cell_type": "markdown",
      "metadata": {
        "id": "view-in-github",
        "colab_type": "text"
      },
      "source": [
        "<a href=\"https://colab.research.google.com/github/dlargod/Swalokal/blob/main/ModellingSwalokal.ipynb\" target=\"_parent\"><img src=\"https://colab.research.google.com/assets/colab-badge.svg\" alt=\"Open In Colab\"/></a>"
      ]
    },
    {
      "cell_type": "code",
      "execution_count": 32,
      "metadata": {
        "colab": {
          "base_uri": "https://localhost:8080/"
        },
        "id": "kfkxD27WBDgw",
        "outputId": "3725fd8d-eae5-4c09-d1ce-d75d3d1dcdce"
      },
      "outputs": [
        {
          "output_type": "stream",
          "name": "stdout",
          "text": [
            "Colab only includes TensorFlow 2.x; %tensorflow_version has no effect.\n"
          ]
        }
      ],
      "source": [
        "try:\n",
        "    %tensorflow_version 2.x\n",
        "except:\n",
        "    pass"
      ]
    },
    {
      "cell_type": "code",
      "source": [
        "import os\n",
        "from os import getcwd\n",
        "\n",
        "import tensorflow_hub as hub\n",
        "import tensorflow as tf\n",
        "\n",
        "from tqdm import tqdm\n",
        "\n",
        "import shutil\n",
        "\n",
        "print(\"\\u2022 Using TensorFlow Version:\", tf.__version__)\n",
        "print('\\u2022 GPU Device Found.' if tf.test.is_gpu_available() else '\\u2022 GPU Device Not Found. Running on CPU')"
      ],
      "metadata": {
        "colab": {
          "base_uri": "https://localhost:8080/"
        },
        "id": "kqfFcqNdBPpz",
        "outputId": "b4e9b8c0-a59e-422d-9e09-04cabfe7c8f4"
      },
      "execution_count": 33,
      "outputs": [
        {
          "output_type": "stream",
          "name": "stdout",
          "text": [
            "• Using TensorFlow Version: 2.12.0\n",
            "• GPU Device Not Found. Running on CPU\n"
          ]
        }
      ]
    },
    {
      "cell_type": "code",
      "source": [
        "print(tf.__version__)"
      ],
      "metadata": {
        "colab": {
          "base_uri": "https://localhost:8080/"
        },
        "id": "XHEaF-N_BWTT",
        "outputId": "e6fb052e-200c-46c4-f7c2-a7856ac339f5"
      },
      "execution_count": 34,
      "outputs": [
        {
          "output_type": "stream",
          "name": "stdout",
          "text": [
            "2.12.0\n"
          ]
        }
      ]
    },
    {
      "cell_type": "markdown",
      "source": [
        "### Import MobileNetV2 as our Transfered Model"
      ],
      "metadata": {
        "id": "8A1kj72DBdUB"
      }
    },
    {
      "cell_type": "code",
      "source": [
        "module_selection = (\"mobilenet_v2\", 224, 1280)  # @param [\"(\\\"mobilenet_v2\\\", 224, 1280)\", \"(\\\"inception_v3\\\", 299, 2048)\"] {type:\"raw\", allow-input: true}\n",
        "handle_base, pixels, FV_SIZE = module_selection\n",
        "MODULE_HANDLE = \"https://tfhub.dev/google/imagenet/mobilenet_v2_130_224/classification/4\".format(\n",
        "    handle_base\n",
        ")\n",
        "IMAGE_SIZE = (pixels, pixels)\n",
        "print(\n",
        "    \"Using {} with input size {} and output dimension {}\".format(\n",
        "        MODULE_HANDLE, IMAGE_SIZE, FV_SIZE\n",
        "    )\n",
        ")"
      ],
      "metadata": {
        "colab": {
          "base_uri": "https://localhost:8080/"
        },
        "id": "9caQAPfqBsO0",
        "outputId": "3b70b42f-ede8-4ab9-bb48-29bb307aacc6"
      },
      "execution_count": 35,
      "outputs": [
        {
          "output_type": "stream",
          "name": "stdout",
          "text": [
            "Using https://tfhub.dev/google/imagenet/mobilenet_v2_130_224/classification/4 with input size (224, 224) and output dimension 1280\n"
          ]
        }
      ]
    },
    {
      "cell_type": "markdown",
      "source": [
        "\n",
        "### Import Dataset from Gdrive"
      ],
      "metadata": {
        "id": "bNjU1M3dB1Rq"
      }
    },
    {
      "cell_type": "code",
      "source": [
        "from google.colab import drive\n",
        "\n",
        "drive.mount(\"/content/gdrive\")"
      ],
      "metadata": {
        "colab": {
          "base_uri": "https://localhost:8080/"
        },
        "id": "Mk3WZl1PB4Hu",
        "outputId": "9de63768-c8b8-44d3-a148-563cc50f8c4f"
      },
      "execution_count": 36,
      "outputs": [
        {
          "output_type": "stream",
          "name": "stdout",
          "text": [
            "Drive already mounted at /content/gdrive; to attempt to forcibly remount, call drive.mount(\"/content/gdrive\", force_remount=True).\n"
          ]
        }
      ]
    },
    {
      "cell_type": "code",
      "source": [
        "path = os.path.join(os.getcwd(), \"gdrive\", \"My Drive\")\n",
        "datapath = os.path.join(path, \"Capstone\")\n",
        "train_path = os.path.join(datapath, \"Train\")\n",
        "test_path = os.path.join(datapath, \"Test\")"
      ],
      "metadata": {
        "id": "Zr_wG1gRC6NE"
      },
      "execution_count": 37,
      "outputs": []
    },
    {
      "cell_type": "code",
      "source": [
        "train_path"
      ],
      "metadata": {
        "colab": {
          "base_uri": "https://localhost:8080/",
          "height": 35
        },
        "id": "MljWqZ5ED2_B",
        "outputId": "1ddd2354-bc7a-4417-a1c2-4a5147ad1461"
      },
      "execution_count": 38,
      "outputs": [
        {
          "output_type": "execute_result",
          "data": {
            "text/plain": [
              "'/content/gdrive/My Drive/Capstone/Train'"
            ],
            "application/vnd.google.colaboratory.intrinsic+json": {
              "type": "string"
            }
          },
          "metadata": {},
          "execution_count": 38
        }
      ]
    },
    {
      "cell_type": "markdown",
      "source": [
        "### Data Augmentation for train dataset"
      ],
      "metadata": {
        "id": "8aLVrO4CD8P8"
      }
    },
    {
      "cell_type": "code",
      "source": [
        "from tensorflow.keras.preprocessing.image import ImageDataGenerator\n",
        "\n",
        "BATCH_SIZE = 20\n",
        "IMG_SIZE = (200, 200)\n",
        "\n",
        "train_datagen = ImageDataGenerator(\n",
        "    rescale=1./255.,\n",
        "    rotation_range=30,\n",
        "    width_shift_range=0.2,\n",
        "    height_shift_range=0.2,\n",
        "    shear_range=0.2,\n",
        "    zoom_range=0.2,\n",
        "    horizontal_flip=True,\n",
        "    fill_mode='nearest'\n",
        ")\n",
        "\n",
        "test_datagen = ImageDataGenerator(rescale=1./255.)\n",
        "\n",
        "train_dataset = train_datagen.flow_from_directory(\n",
        "    train_path, shuffle=True, batch_size=BATCH_SIZE, target_size=IMG_SIZE\n",
        ")\n",
        "\n",
        "test_dataset = test_datagen.flow_from_directory(\n",
        "    test_path, shuffle=True, batch_size=BATCH_SIZE, target_size=IMG_SIZE\n",
        ")"
      ],
      "metadata": {
        "colab": {
          "base_uri": "https://localhost:8080/"
        },
        "id": "RTEX1MMAD_CZ",
        "outputId": "ddf3dd66-b0b3-43b8-fecf-368637fbf963"
      },
      "execution_count": 39,
      "outputs": [
        {
          "output_type": "stream",
          "name": "stdout",
          "text": [
            "Found 333 images belonging to 3 classes.\n",
            "Found 60 images belonging to 3 classes.\n"
          ]
        }
      ]
    },
    {
      "cell_type": "markdown",
      "source": [
        "### Modelling"
      ],
      "metadata": {
        "id": "zRWdeJpzNZXR"
      }
    },
    {
      "cell_type": "code",
      "source": [
        "do_fine_tuning = False  # @param {type:\"boolean\"}"
      ],
      "metadata": {
        "id": "mJrWPHigNfRl"
      },
      "execution_count": 40,
      "outputs": []
    },
    {
      "cell_type": "code",
      "source": [
        "MODULE_HANDLE = \"https://tfhub.dev/google/imagenet/mobilenet_v2_130_224/classification/4\"\n",
        "IMAGE_SIZE = (224, 224)\n",
        "FV_SIZE = 1280\n",
        "\n",
        "feature_extractor = hub.KerasLayer(\n",
        "    MODULE_HANDLE,\n",
        "    input_shape=IMAGE_SIZE + (3,),\n",
        "    output_shape=[FV_SIZE],\n",
        "    trainable=do_fine_tuning,\n",
        ")"
      ],
      "metadata": {
        "id": "wbtep-gsNl0y"
      },
      "execution_count": 41,
      "outputs": []
    },
    {
      "cell_type": "code",
      "source": [
        "model = tf.keras.Sequential([\n",
        "    feature_extractor,\n",
        "    tf.keras.layers.Dense(256, activation=\"relu\"),\n",
        "    tf.keras.layers.Dropout(0.5),\n",
        "    tf.keras.layers.Dense(3, activation=\"softmax\")\n",
        "])"
      ],
      "metadata": {
        "id": "pnX9gMERObgt"
      },
      "execution_count": 42,
      "outputs": []
    },
    {
      "cell_type": "markdown",
      "source": [
        "### (Optional) Unfreeze some layers"
      ],
      "metadata": {
        "id": "dIrlT3GPOjd4"
      }
    },
    {
      "cell_type": "code",
      "source": [
        "NUM_LAYERS = 10  # @param {type:\"slider\", min:1, max:50, step:1}\n",
        "\n",
        "if do_fine_tuning:\n",
        "    feature_extractor.trainable = True\n",
        "\n",
        "    for layer in model.layers[-NUM_LAYERS:]:\n",
        "        layer.trainable = True\n",
        "\n",
        "else:\n",
        "    feature_extractor.trainable = False"
      ],
      "metadata": {
        "id": "2Jq9pu00OuZ1"
      },
      "execution_count": 43,
      "outputs": []
    },
    {
      "cell_type": "markdown",
      "source": [
        "### Model Fitting"
      ],
      "metadata": {
        "id": "gr8CJd_1O2ud"
      }
    },
    {
      "cell_type": "code",
      "source": [
        "if do_fine_tuning:\n",
        "    model.compile(\n",
        "        optimizer=tf.keras.optimizers.SGD(lr=0.01, momentum=0.9),\n",
        "        loss=tf.keras.losses.CategoricalCrossentropy(),\n",
        "        metrics=[\"accuracy\"],\n",
        "    )\n",
        "else:\n",
        "    model.compile(\n",
        "        optimizer=\"adam\",\n",
        "        loss=\"categorical_crossentropy\",\n",
        "        metrics=[\"accuracy\"]\n",
        "    )"
      ],
      "metadata": {
        "id": "uc-wLgnsOz55"
      },
      "execution_count": 44,
      "outputs": []
    },
    {
      "cell_type": "code",
      "source": [
        "EPOCHS = 30\n",
        "\n",
        "hist = model.fit(train_dataset, epochs=EPOCHS, validation_data=test_dataset)"
      ],
      "metadata": {
        "colab": {
          "base_uri": "https://localhost:8080/"
        },
        "id": "JlSyL9qwO6Mb",
        "outputId": "7b785bc2-be38-45a9-f079-cc2e68e81a8f"
      },
      "execution_count": 45,
      "outputs": [
        {
          "output_type": "stream",
          "name": "stdout",
          "text": [
            "Epoch 1/30\n",
            "17/17 [==============================] - 41s 2s/step - loss: 0.7343 - accuracy: 0.7868 - val_loss: 0.4378 - val_accuracy: 0.9000\n",
            "Epoch 2/30\n",
            "17/17 [==============================] - 33s 2s/step - loss: 0.1211 - accuracy: 0.9610 - val_loss: 0.4237 - val_accuracy: 0.8833\n",
            "Epoch 3/30\n",
            "17/17 [==============================] - 32s 2s/step - loss: 0.0717 - accuracy: 0.9790 - val_loss: 0.4656 - val_accuracy: 0.8667\n",
            "Epoch 4/30\n",
            "17/17 [==============================] - 33s 2s/step - loss: 0.0939 - accuracy: 0.9760 - val_loss: 0.2219 - val_accuracy: 0.9333\n",
            "Epoch 5/30\n",
            "17/17 [==============================] - 33s 2s/step - loss: 0.0810 - accuracy: 0.9760 - val_loss: 0.3498 - val_accuracy: 0.8833\n",
            "Epoch 6/30\n",
            "17/17 [==============================] - 38s 2s/step - loss: 0.0374 - accuracy: 0.9820 - val_loss: 0.3811 - val_accuracy: 0.8667\n",
            "Epoch 7/30\n",
            "17/17 [==============================] - 33s 2s/step - loss: 0.0388 - accuracy: 0.9850 - val_loss: 0.6150 - val_accuracy: 0.8500\n",
            "Epoch 8/30\n",
            "17/17 [==============================] - 38s 2s/step - loss: 0.0301 - accuracy: 0.9910 - val_loss: 0.4021 - val_accuracy: 0.8667\n",
            "Epoch 9/30\n",
            "17/17 [==============================] - 32s 2s/step - loss: 0.0404 - accuracy: 0.9910 - val_loss: 0.5934 - val_accuracy: 0.8500\n",
            "Epoch 10/30\n",
            "17/17 [==============================] - 34s 2s/step - loss: 0.0241 - accuracy: 0.9940 - val_loss: 0.3848 - val_accuracy: 0.8833\n",
            "Epoch 11/30\n",
            "17/17 [==============================] - 39s 2s/step - loss: 0.0387 - accuracy: 0.9850 - val_loss: 0.3797 - val_accuracy: 0.8500\n",
            "Epoch 12/30\n",
            "17/17 [==============================] - 38s 2s/step - loss: 0.0102 - accuracy: 0.9970 - val_loss: 0.5717 - val_accuracy: 0.8667\n",
            "Epoch 13/30\n",
            "17/17 [==============================] - 33s 2s/step - loss: 0.0263 - accuracy: 0.9940 - val_loss: 0.5090 - val_accuracy: 0.8833\n",
            "Epoch 14/30\n",
            "17/17 [==============================] - 38s 2s/step - loss: 0.0159 - accuracy: 0.9970 - val_loss: 0.4682 - val_accuracy: 0.8667\n",
            "Epoch 15/30\n",
            "17/17 [==============================] - 33s 2s/step - loss: 0.0156 - accuracy: 0.9970 - val_loss: 0.3816 - val_accuracy: 0.9167\n",
            "Epoch 16/30\n",
            "17/17 [==============================] - 33s 2s/step - loss: 0.0178 - accuracy: 0.9970 - val_loss: 0.5545 - val_accuracy: 0.8500\n",
            "Epoch 17/30\n",
            "17/17 [==============================] - 32s 2s/step - loss: 0.0164 - accuracy: 0.9940 - val_loss: 0.5528 - val_accuracy: 0.8833\n",
            "Epoch 18/30\n",
            "17/17 [==============================] - 33s 2s/step - loss: 0.0182 - accuracy: 0.9940 - val_loss: 0.4208 - val_accuracy: 0.8667\n",
            "Epoch 19/30\n",
            "17/17 [==============================] - 38s 2s/step - loss: 0.0041 - accuracy: 1.0000 - val_loss: 0.4207 - val_accuracy: 0.8667\n",
            "Epoch 20/30\n",
            "17/17 [==============================] - 34s 2s/step - loss: 0.0098 - accuracy: 0.9970 - val_loss: 0.5438 - val_accuracy: 0.8333\n",
            "Epoch 21/30\n",
            "17/17 [==============================] - 33s 2s/step - loss: 0.0271 - accuracy: 0.9880 - val_loss: 0.5195 - val_accuracy: 0.8500\n",
            "Epoch 22/30\n",
            "17/17 [==============================] - 33s 2s/step - loss: 0.0231 - accuracy: 0.9910 - val_loss: 0.6005 - val_accuracy: 0.8333\n",
            "Epoch 23/30\n",
            "17/17 [==============================] - 34s 2s/step - loss: 0.0361 - accuracy: 0.9910 - val_loss: 0.3589 - val_accuracy: 0.8667\n",
            "Epoch 24/30\n",
            "17/17 [==============================] - 33s 2s/step - loss: 0.0047 - accuracy: 1.0000 - val_loss: 0.5424 - val_accuracy: 0.8667\n",
            "Epoch 25/30\n",
            "17/17 [==============================] - 33s 2s/step - loss: 0.0305 - accuracy: 0.9940 - val_loss: 0.5008 - val_accuracy: 0.8500\n",
            "Epoch 26/30\n",
            "17/17 [==============================] - 38s 2s/step - loss: 0.0096 - accuracy: 0.9970 - val_loss: 0.4529 - val_accuracy: 0.8667\n",
            "Epoch 27/30\n",
            "17/17 [==============================] - 40s 2s/step - loss: 0.0031 - accuracy: 1.0000 - val_loss: 0.3986 - val_accuracy: 0.8833\n",
            "Epoch 28/30\n",
            "17/17 [==============================] - 56s 3s/step - loss: 0.0117 - accuracy: 0.9970 - val_loss: 0.3452 - val_accuracy: 0.9167\n",
            "Epoch 29/30\n",
            "17/17 [==============================] - 38s 2s/step - loss: 0.0084 - accuracy: 0.9970 - val_loss: 0.3075 - val_accuracy: 0.8833\n",
            "Epoch 30/30\n",
            "17/17 [==============================] - 34s 2s/step - loss: 0.0374 - accuracy: 0.9850 - val_loss: 0.5934 - val_accuracy: 0.8333\n"
          ]
        }
      ]
    },
    {
      "cell_type": "markdown",
      "source": [
        "### Save and Export the Model"
      ],
      "metadata": {
        "id": "wr9riyyxcJ9f"
      }
    },
    {
      "cell_type": "code",
      "source": [
        "SWALOKAL_SAVED_MODEL = \"swalokal_saved_model\"\n"
      ],
      "metadata": {
        "id": "YxK0oI_VcI8Q"
      },
      "execution_count": 46,
      "outputs": []
    },
    {
      "cell_type": "code",
      "source": [
        "tf.saved_model.save(model, SWALOKAL_SAVED_MODEL)"
      ],
      "metadata": {
        "colab": {
          "base_uri": "https://localhost:8080/"
        },
        "id": "kDAiKHQUcOaH",
        "outputId": "1242a721-0ea6-4c1f-add3-c7486ba08d9e"
      },
      "execution_count": 47,
      "outputs": [
        {
          "output_type": "stream",
          "name": "stderr",
          "text": [
            "WARNING:absl:Found untraced functions such as _update_step_xla while saving (showing 1 of 1). These functions will not be directly callable after loading.\n"
          ]
        }
      ]
    },
    {
      "cell_type": "code",
      "source": [
        "%%bash -s $SWALOKAL_SAVED_MODEL\n",
        "saved_model_cli show --dir $1 --tag_set serve --signature_def serving_default"
      ],
      "metadata": {
        "colab": {
          "base_uri": "https://localhost:8080/"
        },
        "id": "qtj2wCOdcW0h",
        "outputId": "780270c3-54c0-4860-eeab-6a198a16b72c"
      },
      "execution_count": 48,
      "outputs": [
        {
          "output_type": "stream",
          "name": "stdout",
          "text": [
            "The given SavedModel SignatureDef contains the following input(s):\n",
            "  inputs['keras_layer_3_input'] tensor_info:\n",
            "      dtype: DT_FLOAT\n",
            "      shape: (-1, 224, 224, 3)\n",
            "      name: serving_default_keras_layer_3_input:0\n",
            "The given SavedModel SignatureDef contains the following output(s):\n",
            "  outputs['dense_2'] tensor_info:\n",
            "      dtype: DT_FLOAT\n",
            "      shape: (-1, 3)\n",
            "      name: StatefulPartitionedCall:0\n",
            "Method name is: tensorflow/serving/predict\n"
          ]
        },
        {
          "output_type": "stream",
          "name": "stderr",
          "text": [
            "2023-08-01 04:56:17.209944: W tensorflow/compiler/tf2tensorrt/utils/py_utils.cc:38] TF-TRT Warning: Could not find TensorRT\n"
          ]
        }
      ]
    },
    {
      "cell_type": "code",
      "source": [
        "loaded = tf.saved_model.load(SWALOKAL_SAVED_MODEL)"
      ],
      "metadata": {
        "id": "Q5U26rIGcb3x"
      },
      "execution_count": 49,
      "outputs": []
    },
    {
      "cell_type": "code",
      "source": [
        "print(list(loaded.signatures.keys()))\n",
        "infer = loaded.signatures[\"serving_default\"]\n",
        "print(infer.structured_input_signature)\n",
        "print(infer.structured_outputs)"
      ],
      "metadata": {
        "colab": {
          "base_uri": "https://localhost:8080/"
        },
        "id": "EhPzg1_YcegL",
        "outputId": "d0852157-8aa6-4b3d-f7fc-26a692506e46"
      },
      "execution_count": 50,
      "outputs": [
        {
          "output_type": "stream",
          "name": "stdout",
          "text": [
            "['serving_default']\n",
            "((), {'keras_layer_3_input': TensorSpec(shape=(None, 224, 224, 3), dtype=tf.float32, name='keras_layer_3_input')})\n",
            "{'dense_2': TensorSpec(shape=(None, 3), dtype=tf.float32, name='dense_2')}\n"
          ]
        }
      ]
    },
    {
      "cell_type": "markdown",
      "source": [
        "### Convert The Model using TFLite's Converter"
      ],
      "metadata": {
        "id": "uBXJvhR7ckbe"
      }
    },
    {
      "cell_type": "code",
      "source": [
        "converter = tf.lite.TFLiteConverter.from_saved_model(SWALOKAL_SAVED_MODEL)\n",
        "converter.optimizations = [tf.lite.Optimize.DEFAULT]\n",
        "tflite_model = converter.convert()"
      ],
      "metadata": {
        "id": "U0ZLXRJVcgr5"
      },
      "execution_count": 51,
      "outputs": []
    },
    {
      "cell_type": "code",
      "source": [
        "tflite_model_file = \"converted_model.tflite\"\n",
        "\n",
        "with open(tflite_model_file, \"wb\") as f:\n",
        "    f.write(tflite_model)"
      ],
      "metadata": {
        "id": "Kq9W1vkCdL5z"
      },
      "execution_count": 52,
      "outputs": []
    },
    {
      "cell_type": "markdown",
      "source": [
        "### Save model into .pb"
      ],
      "metadata": {
        "id": "jMGltOa9dOgF"
      }
    },
    {
      "cell_type": "code",
      "source": [
        "import numpy as np\n",
        "import tensorflow as tf\n",
        "\n",
        "# Load TFLite model and allocate tensors.\n",
        "interpreter = tf.lite.Interpreter(model_path=\"converted_model.tflite\")\n",
        "interpreter.allocate_tensors()\n",
        "\n",
        "# Get input and output tensors.\n",
        "input_details = interpreter.get_input_details()\n",
        "output_details = interpreter.get_output_details()\n",
        "\n",
        "# Test model on random input data.\n",
        "input_shape = input_details[0]['shape']\n",
        "input_data = np.array(np.random.random_sample(input_shape), dtype=np.float32)\n",
        "interpreter.set_tensor(input_details[0]['index'], input_data)\n",
        "\n",
        "interpreter.invoke()\n",
        "output_data = interpreter.get_tensor(output_details[0]['index'])\n",
        "print(output_data)"
      ],
      "metadata": {
        "colab": {
          "base_uri": "https://localhost:8080/"
        },
        "id": "r6PqnCftdRBg",
        "outputId": "b607af0c-8d6d-49a6-a208-bc71d9cc7595"
      },
      "execution_count": 53,
      "outputs": [
        {
          "output_type": "stream",
          "name": "stdout",
          "text": [
            "[[0.9956821  0.00131544 0.00300239]]\n"
          ]
        }
      ]
    },
    {
      "cell_type": "markdown",
      "source": [
        "\n",
        "### Zip the whole model"
      ],
      "metadata": {
        "id": "vNVYJjlldWBD"
      }
    },
    {
      "cell_type": "code",
      "source": [
        "shutil.make_archive(\"swalokal_saved_model\", \"zip\", \"swalokal_saved_model\")"
      ],
      "metadata": {
        "colab": {
          "base_uri": "https://localhost:8080/",
          "height": 35
        },
        "id": "-ym2Ks9wdXzz",
        "outputId": "898b20c1-749d-4f7a-9034-54d873f5a817"
      },
      "execution_count": 54,
      "outputs": [
        {
          "output_type": "execute_result",
          "data": {
            "text/plain": [
              "'/content/swalokal_saved_model.zip'"
            ],
            "application/vnd.google.colaboratory.intrinsic+json": {
              "type": "string"
            }
          },
          "metadata": {},
          "execution_count": 54
        }
      ]
    }
  ]
}